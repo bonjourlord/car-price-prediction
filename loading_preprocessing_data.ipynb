{
 "cells": [
  {
   "cell_type": "markdown",
   "id": "d57b6a16-4bc8-4e30-9c9e-52c27ecfbd76",
   "metadata": {},
   "source": [
    "## Libralies"
   ]
  },
  {
   "cell_type": "code",
   "execution_count": 7,
   "id": "d435cc9a-d3d7-4c97-b445-7f1ca287205e",
   "metadata": {},
   "outputs": [],
   "source": [
    "import pandas as pd\n",
    "import numpy as np\n",
    "\n",
    "## data visualization\n",
    "import matplotlib.pyplot as plt\n",
    "import seaborn as sns"
   ]
  },
  {
   "cell_type": "markdown",
   "id": "41cbc20b-8c67-4df3-8750-c9c7adbbbbfe",
   "metadata": {},
   "source": [
    "## Loading files"
   ]
  },
  {
   "cell_type": "code",
   "execution_count": 9,
   "id": "fca8cd52-5239-439a-93aa-c2548fc15aa7",
   "metadata": {},
   "outputs": [],
   "source": [
    "data = pd.read_csv(\"datasets/car_price_prediction.csv\")"
   ]
  },
  {
   "cell_type": "code",
   "execution_count": 12,
   "id": "41b61b8f-0950-4e31-9fe9-ac0ff92095f7",
   "metadata": {},
   "outputs": [],
   "source": [
    "## create a deep copy\n",
    "df = data.copy()"
   ]
  },
  {
   "cell_type": "code",
   "execution_count": 13,
   "id": "b4c589d6-b74f-4321-9b04-1d40ea871dd0",
   "metadata": {},
   "outputs": [
    {
     "data": {
      "text/html": [
       "<div>\n",
       "<style scoped>\n",
       "    .dataframe tbody tr th:only-of-type {\n",
       "        vertical-align: middle;\n",
       "    }\n",
       "\n",
       "    .dataframe tbody tr th {\n",
       "        vertical-align: top;\n",
       "    }\n",
       "\n",
       "    .dataframe thead th {\n",
       "        text-align: right;\n",
       "    }\n",
       "</style>\n",
       "<table border=\"1\" class=\"dataframe\">\n",
       "  <thead>\n",
       "    <tr style=\"text-align: right;\">\n",
       "      <th></th>\n",
       "      <th>ID</th>\n",
       "      <th>Price</th>\n",
       "      <th>Levy</th>\n",
       "      <th>Manufacturer</th>\n",
       "      <th>Model</th>\n",
       "      <th>Prod. year</th>\n",
       "      <th>Category</th>\n",
       "      <th>Leather interior</th>\n",
       "      <th>Fuel type</th>\n",
       "      <th>Engine volume</th>\n",
       "      <th>Mileage</th>\n",
       "      <th>Cylinders</th>\n",
       "      <th>Gear box type</th>\n",
       "      <th>Drive wheels</th>\n",
       "      <th>Doors</th>\n",
       "      <th>Wheel</th>\n",
       "      <th>Color</th>\n",
       "      <th>Airbags</th>\n",
       "    </tr>\n",
       "  </thead>\n",
       "  <tbody>\n",
       "    <tr>\n",
       "      <th>0</th>\n",
       "      <td>45654403</td>\n",
       "      <td>13328</td>\n",
       "      <td>1399</td>\n",
       "      <td>LEXUS</td>\n",
       "      <td>RX 450</td>\n",
       "      <td>2010</td>\n",
       "      <td>Jeep</td>\n",
       "      <td>Yes</td>\n",
       "      <td>Hybrid</td>\n",
       "      <td>3.5</td>\n",
       "      <td>186005 km</td>\n",
       "      <td>6.0</td>\n",
       "      <td>Automatic</td>\n",
       "      <td>4x4</td>\n",
       "      <td>04-May</td>\n",
       "      <td>Left wheel</td>\n",
       "      <td>Silver</td>\n",
       "      <td>12</td>\n",
       "    </tr>\n",
       "    <tr>\n",
       "      <th>1</th>\n",
       "      <td>44731507</td>\n",
       "      <td>16621</td>\n",
       "      <td>1018</td>\n",
       "      <td>CHEVROLET</td>\n",
       "      <td>Equinox</td>\n",
       "      <td>2011</td>\n",
       "      <td>Jeep</td>\n",
       "      <td>No</td>\n",
       "      <td>Petrol</td>\n",
       "      <td>3</td>\n",
       "      <td>192000 km</td>\n",
       "      <td>6.0</td>\n",
       "      <td>Tiptronic</td>\n",
       "      <td>4x4</td>\n",
       "      <td>04-May</td>\n",
       "      <td>Left wheel</td>\n",
       "      <td>Black</td>\n",
       "      <td>8</td>\n",
       "    </tr>\n",
       "    <tr>\n",
       "      <th>2</th>\n",
       "      <td>45774419</td>\n",
       "      <td>8467</td>\n",
       "      <td>-</td>\n",
       "      <td>HONDA</td>\n",
       "      <td>FIT</td>\n",
       "      <td>2006</td>\n",
       "      <td>Hatchback</td>\n",
       "      <td>No</td>\n",
       "      <td>Petrol</td>\n",
       "      <td>1.3</td>\n",
       "      <td>200000 km</td>\n",
       "      <td>4.0</td>\n",
       "      <td>Variator</td>\n",
       "      <td>Front</td>\n",
       "      <td>04-May</td>\n",
       "      <td>Right-hand drive</td>\n",
       "      <td>Black</td>\n",
       "      <td>2</td>\n",
       "    </tr>\n",
       "    <tr>\n",
       "      <th>3</th>\n",
       "      <td>45769185</td>\n",
       "      <td>3607</td>\n",
       "      <td>862</td>\n",
       "      <td>FORD</td>\n",
       "      <td>Escape</td>\n",
       "      <td>2011</td>\n",
       "      <td>Jeep</td>\n",
       "      <td>Yes</td>\n",
       "      <td>Hybrid</td>\n",
       "      <td>2.5</td>\n",
       "      <td>168966 km</td>\n",
       "      <td>4.0</td>\n",
       "      <td>Automatic</td>\n",
       "      <td>4x4</td>\n",
       "      <td>04-May</td>\n",
       "      <td>Left wheel</td>\n",
       "      <td>White</td>\n",
       "      <td>0</td>\n",
       "    </tr>\n",
       "    <tr>\n",
       "      <th>4</th>\n",
       "      <td>45809263</td>\n",
       "      <td>11726</td>\n",
       "      <td>446</td>\n",
       "      <td>HONDA</td>\n",
       "      <td>FIT</td>\n",
       "      <td>2014</td>\n",
       "      <td>Hatchback</td>\n",
       "      <td>Yes</td>\n",
       "      <td>Petrol</td>\n",
       "      <td>1.3</td>\n",
       "      <td>91901 km</td>\n",
       "      <td>4.0</td>\n",
       "      <td>Automatic</td>\n",
       "      <td>Front</td>\n",
       "      <td>04-May</td>\n",
       "      <td>Left wheel</td>\n",
       "      <td>Silver</td>\n",
       "      <td>4</td>\n",
       "    </tr>\n",
       "  </tbody>\n",
       "</table>\n",
       "</div>"
      ],
      "text/plain": [
       "         ID  Price  Levy Manufacturer    Model  Prod. year   Category  \\\n",
       "0  45654403  13328  1399        LEXUS   RX 450        2010       Jeep   \n",
       "1  44731507  16621  1018    CHEVROLET  Equinox        2011       Jeep   \n",
       "2  45774419   8467     -        HONDA      FIT        2006  Hatchback   \n",
       "3  45769185   3607   862         FORD   Escape        2011       Jeep   \n",
       "4  45809263  11726   446        HONDA      FIT        2014  Hatchback   \n",
       "\n",
       "  Leather interior Fuel type Engine volume    Mileage  Cylinders  \\\n",
       "0              Yes    Hybrid           3.5  186005 km        6.0   \n",
       "1               No    Petrol             3  192000 km        6.0   \n",
       "2               No    Petrol           1.3  200000 km        4.0   \n",
       "3              Yes    Hybrid           2.5  168966 km        4.0   \n",
       "4              Yes    Petrol           1.3   91901 km        4.0   \n",
       "\n",
       "  Gear box type Drive wheels   Doors             Wheel   Color  Airbags  \n",
       "0     Automatic          4x4  04-May        Left wheel  Silver       12  \n",
       "1     Tiptronic          4x4  04-May        Left wheel   Black        8  \n",
       "2      Variator        Front  04-May  Right-hand drive   Black        2  \n",
       "3     Automatic          4x4  04-May        Left wheel   White        0  \n",
       "4     Automatic        Front  04-May        Left wheel  Silver        4  "
      ]
     },
     "execution_count": 13,
     "metadata": {},
     "output_type": "execute_result"
    }
   ],
   "source": [
    "df.head ()"
   ]
  },
  {
   "cell_type": "code",
   "execution_count": 14,
   "id": "3e4f92fa-3d02-4de9-9603-bd60d7c1f635",
   "metadata": {},
   "outputs": [
    {
     "data": {
      "text/html": [
       "<div>\n",
       "<style scoped>\n",
       "    .dataframe tbody tr th:only-of-type {\n",
       "        vertical-align: middle;\n",
       "    }\n",
       "\n",
       "    .dataframe tbody tr th {\n",
       "        vertical-align: top;\n",
       "    }\n",
       "\n",
       "    .dataframe thead th {\n",
       "        text-align: right;\n",
       "    }\n",
       "</style>\n",
       "<table border=\"1\" class=\"dataframe\">\n",
       "  <thead>\n",
       "    <tr style=\"text-align: right;\">\n",
       "      <th></th>\n",
       "      <th>ID</th>\n",
       "      <th>Price</th>\n",
       "      <th>Levy</th>\n",
       "      <th>Manufacturer</th>\n",
       "      <th>Model</th>\n",
       "      <th>Prod. year</th>\n",
       "      <th>Category</th>\n",
       "      <th>Leather interior</th>\n",
       "      <th>Fuel type</th>\n",
       "      <th>Engine volume</th>\n",
       "      <th>Mileage</th>\n",
       "      <th>Cylinders</th>\n",
       "      <th>Gear box type</th>\n",
       "      <th>Drive wheels</th>\n",
       "      <th>Doors</th>\n",
       "      <th>Wheel</th>\n",
       "      <th>Color</th>\n",
       "      <th>Airbags</th>\n",
       "    </tr>\n",
       "  </thead>\n",
       "  <tbody>\n",
       "    <tr>\n",
       "      <th>19232</th>\n",
       "      <td>45798355</td>\n",
       "      <td>8467</td>\n",
       "      <td>-</td>\n",
       "      <td>MERCEDES-BENZ</td>\n",
       "      <td>CLK 200</td>\n",
       "      <td>1999</td>\n",
       "      <td>Coupe</td>\n",
       "      <td>Yes</td>\n",
       "      <td>CNG</td>\n",
       "      <td>2.0 Turbo</td>\n",
       "      <td>300000 km</td>\n",
       "      <td>4.0</td>\n",
       "      <td>Manual</td>\n",
       "      <td>Rear</td>\n",
       "      <td>02-Mar</td>\n",
       "      <td>Left wheel</td>\n",
       "      <td>Silver</td>\n",
       "      <td>5</td>\n",
       "    </tr>\n",
       "    <tr>\n",
       "      <th>19233</th>\n",
       "      <td>45778856</td>\n",
       "      <td>15681</td>\n",
       "      <td>831</td>\n",
       "      <td>HYUNDAI</td>\n",
       "      <td>Sonata</td>\n",
       "      <td>2011</td>\n",
       "      <td>Sedan</td>\n",
       "      <td>Yes</td>\n",
       "      <td>Petrol</td>\n",
       "      <td>2.4</td>\n",
       "      <td>161600 km</td>\n",
       "      <td>4.0</td>\n",
       "      <td>Tiptronic</td>\n",
       "      <td>Front</td>\n",
       "      <td>04-May</td>\n",
       "      <td>Left wheel</td>\n",
       "      <td>Red</td>\n",
       "      <td>8</td>\n",
       "    </tr>\n",
       "    <tr>\n",
       "      <th>19234</th>\n",
       "      <td>45804997</td>\n",
       "      <td>26108</td>\n",
       "      <td>836</td>\n",
       "      <td>HYUNDAI</td>\n",
       "      <td>Tucson</td>\n",
       "      <td>2010</td>\n",
       "      <td>Jeep</td>\n",
       "      <td>Yes</td>\n",
       "      <td>Diesel</td>\n",
       "      <td>2</td>\n",
       "      <td>116365 km</td>\n",
       "      <td>4.0</td>\n",
       "      <td>Automatic</td>\n",
       "      <td>Front</td>\n",
       "      <td>04-May</td>\n",
       "      <td>Left wheel</td>\n",
       "      <td>Grey</td>\n",
       "      <td>4</td>\n",
       "    </tr>\n",
       "    <tr>\n",
       "      <th>19235</th>\n",
       "      <td>45793526</td>\n",
       "      <td>5331</td>\n",
       "      <td>1288</td>\n",
       "      <td>CHEVROLET</td>\n",
       "      <td>Captiva</td>\n",
       "      <td>2007</td>\n",
       "      <td>Jeep</td>\n",
       "      <td>Yes</td>\n",
       "      <td>Diesel</td>\n",
       "      <td>2</td>\n",
       "      <td>51258 km</td>\n",
       "      <td>4.0</td>\n",
       "      <td>Automatic</td>\n",
       "      <td>Front</td>\n",
       "      <td>04-May</td>\n",
       "      <td>Left wheel</td>\n",
       "      <td>Black</td>\n",
       "      <td>4</td>\n",
       "    </tr>\n",
       "    <tr>\n",
       "      <th>19236</th>\n",
       "      <td>45813273</td>\n",
       "      <td>470</td>\n",
       "      <td>753</td>\n",
       "      <td>HYUNDAI</td>\n",
       "      <td>Sonata</td>\n",
       "      <td>2012</td>\n",
       "      <td>Sedan</td>\n",
       "      <td>Yes</td>\n",
       "      <td>Hybrid</td>\n",
       "      <td>2.4</td>\n",
       "      <td>186923 km</td>\n",
       "      <td>4.0</td>\n",
       "      <td>Automatic</td>\n",
       "      <td>Front</td>\n",
       "      <td>04-May</td>\n",
       "      <td>Left wheel</td>\n",
       "      <td>White</td>\n",
       "      <td>12</td>\n",
       "    </tr>\n",
       "  </tbody>\n",
       "</table>\n",
       "</div>"
      ],
      "text/plain": [
       "             ID  Price  Levy   Manufacturer    Model  Prod. year Category  \\\n",
       "19232  45798355   8467     -  MERCEDES-BENZ  CLK 200        1999    Coupe   \n",
       "19233  45778856  15681   831        HYUNDAI   Sonata        2011    Sedan   \n",
       "19234  45804997  26108   836        HYUNDAI   Tucson        2010     Jeep   \n",
       "19235  45793526   5331  1288      CHEVROLET  Captiva        2007     Jeep   \n",
       "19236  45813273    470   753        HYUNDAI   Sonata        2012    Sedan   \n",
       "\n",
       "      Leather interior Fuel type Engine volume    Mileage  Cylinders  \\\n",
       "19232              Yes       CNG     2.0 Turbo  300000 km        4.0   \n",
       "19233              Yes    Petrol           2.4  161600 km        4.0   \n",
       "19234              Yes    Diesel             2  116365 km        4.0   \n",
       "19235              Yes    Diesel             2   51258 km        4.0   \n",
       "19236              Yes    Hybrid           2.4  186923 km        4.0   \n",
       "\n",
       "      Gear box type Drive wheels   Doors       Wheel   Color  Airbags  \n",
       "19232        Manual         Rear  02-Mar  Left wheel  Silver        5  \n",
       "19233     Tiptronic        Front  04-May  Left wheel     Red        8  \n",
       "19234     Automatic        Front  04-May  Left wheel    Grey        4  \n",
       "19235     Automatic        Front  04-May  Left wheel   Black        4  \n",
       "19236     Automatic        Front  04-May  Left wheel   White       12  "
      ]
     },
     "execution_count": 14,
     "metadata": {},
     "output_type": "execute_result"
    }
   ],
   "source": [
    "df.tail()"
   ]
  },
  {
   "cell_type": "code",
   "execution_count": 15,
   "id": "f2fc950b-435e-4bf2-9920-099e5ac2c814",
   "metadata": {},
   "outputs": [
    {
     "name": "stdout",
     "output_type": "stream",
     "text": [
      "Total number of rows: 19237 -> Total number of columns: 18\n"
     ]
    }
   ],
   "source": [
    "## check the number of rows and colums\n",
    "print(f'Total number of rows: {df.shape[0]} -> Total number of columns: {df.shape[1]}')"
   ]
  },
  {
   "cell_type": "code",
   "execution_count": 16,
   "id": "bf90dafe-c679-450e-9009-d96697fc63c9",
   "metadata": {},
   "outputs": [
    {
     "name": "stdout",
     "output_type": "stream",
     "text": [
      "<class 'pandas.core.frame.DataFrame'>\n",
      "RangeIndex: 19237 entries, 0 to 19236\n",
      "Data columns (total 18 columns):\n",
      " #   Column            Non-Null Count  Dtype  \n",
      "---  ------            --------------  -----  \n",
      " 0   ID                19237 non-null  int64  \n",
      " 1   Price             19237 non-null  int64  \n",
      " 2   Levy              19237 non-null  object \n",
      " 3   Manufacturer      19237 non-null  object \n",
      " 4   Model             19237 non-null  object \n",
      " 5   Prod. year        19237 non-null  int64  \n",
      " 6   Category          19237 non-null  object \n",
      " 7   Leather interior  19237 non-null  object \n",
      " 8   Fuel type         19237 non-null  object \n",
      " 9   Engine volume     19237 non-null  object \n",
      " 10  Mileage           19237 non-null  object \n",
      " 11  Cylinders         19237 non-null  float64\n",
      " 12  Gear box type     19237 non-null  object \n",
      " 13  Drive wheels      19237 non-null  object \n",
      " 14  Doors             19237 non-null  object \n",
      " 15  Wheel             19237 non-null  object \n",
      " 16  Color             19237 non-null  object \n",
      " 17  Airbags           19237 non-null  int64  \n",
      "dtypes: float64(1), int64(4), object(13)\n",
      "memory usage: 2.6+ MB\n"
     ]
    }
   ],
   "source": [
    "## get a summary description of the data\n",
    "df.info()"
   ]
  },
  {
   "cell_type": "code",
   "execution_count": 17,
   "id": "ac5e9c90-c498-4b9d-a52b-77f19875406d",
   "metadata": {},
   "outputs": [
    {
     "data": {
      "text/plain": [
       "ID                  0\n",
       "Price               0\n",
       "Levy                0\n",
       "Manufacturer        0\n",
       "Model               0\n",
       "Prod. year          0\n",
       "Category            0\n",
       "Leather interior    0\n",
       "Fuel type           0\n",
       "Engine volume       0\n",
       "Mileage             0\n",
       "Cylinders           0\n",
       "Gear box type       0\n",
       "Drive wheels        0\n",
       "Doors               0\n",
       "Wheel               0\n",
       "Color               0\n",
       "Airbags             0\n",
       "dtype: int64"
      ]
     },
     "execution_count": 17,
     "metadata": {},
     "output_type": "execute_result"
    }
   ],
   "source": [
    "## checking for missing values\n",
    "df.isnull().sum()"
   ]
  },
  {
   "cell_type": "code",
   "execution_count": 18,
   "id": "331df6cb-da1b-4359-8881-22e4abb78e8c",
   "metadata": {},
   "outputs": [
    {
     "data": {
      "text/plain": [
       "313"
      ]
     },
     "execution_count": 18,
     "metadata": {},
     "output_type": "execute_result"
    }
   ],
   "source": [
    "## checking for duplicated values\n",
    "df.duplicated().sum()"
   ]
  },
  {
   "cell_type": "code",
   "execution_count": 25,
   "id": "198b8c75-14c9-425b-859a-a60dbb819d5b",
   "metadata": {},
   "outputs": [
    {
     "name": "stdout",
     "output_type": "stream",
     "text": [
      "['02-Mar' '04-May' '>5']\n"
     ]
    }
   ],
   "source": [
    "## finding unique instances in each column\n",
    "print(np.unique(df['Doors']))"
   ]
  },
  {
   "cell_type": "code",
   "execution_count": 26,
   "id": "d02874a9-2a79-4698-a12f-f7ec1afe5d77",
   "metadata": {},
   "outputs": [
    {
     "data": {
      "text/plain": [
       "ID                    int64\n",
       "Price                 int64\n",
       "Levy                 object\n",
       "Manufacturer         object\n",
       "Model                object\n",
       "Prod. year            int64\n",
       "Category             object\n",
       "Leather interior     object\n",
       "Fuel type            object\n",
       "Engine volume        object\n",
       "Mileage              object\n",
       "Cylinders           float64\n",
       "Gear box type        object\n",
       "Drive wheels         object\n",
       "Doors                object\n",
       "Wheel                object\n",
       "Color                object\n",
       "Airbags               int64\n",
       "dtype: object"
      ]
     },
     "execution_count": 26,
     "metadata": {},
     "output_type": "execute_result"
    }
   ],
   "source": [
    "df.dtypes"
   ]
  },
  {
   "cell_type": "code",
   "execution_count": 27,
   "id": "872218f3-bb7b-4849-8229-59b131f3ff1d",
   "metadata": {},
   "outputs": [
    {
     "name": "stdout",
     "output_type": "stream",
     "text": [
      "['-' '1011' '1016' '1017' '1018' '1024' '1028' '1030' '1031' '1032' '1036'\n",
      " '1039' '1045' '1047' '1051' '1053' '1054' '1055' '1058' '1062' '1064'\n",
      " '1076' '1077' '1079' '1080' '1083' '1086' '1090' '1091' '1094' '1095'\n",
      " '1099' '1103' '1104' '1107' '1108' '1109' '1110' '1111' '1113' '1118'\n",
      " '1132' '1138' '1141' '1148' '115' '1156' '1163' '11706' '1171' '11714'\n",
      " '1172' '1174' '1176' '1178' '1185' '1187' '1190' '1194' '1195' '1197'\n",
      " '1198' '1202' '1203' '1205' '1211' '1228' '1234' '1236' '1246' '1249'\n",
      " '1252' '1266' '1267' '1268' '1272' '1273' '1275' '1277' '1279' '1282'\n",
      " '1285' '1286' '1288' '1292' '1296' '1297' '1301' '1304' '1307' '1308'\n",
      " '1317' '1323' '1324' '1325' '1327' '1341' '1342' '1345' '1346' '1347'\n",
      " '1356' '1357' '1360' '1361' '1363' '1365' '1366' '1368' '1369' '1375'\n",
      " '1384' '1387' '1391' '1399' '1405' '1408' '1411' '1413' '1426' '1436'\n",
      " '1437' '1438' '1440' '1441' '1442' '1451' '1452' '1466' '1468' '1470'\n",
      " '1473' '1474' '1481' '1482' '1486' '1488' '1493' '1502' '1503' '1505'\n",
      " '1511' '1514' '1515' '1516' '1518' '1522' '1525' '1528' '1529' '1531'\n",
      " '1533' '1537' '1539' '155' '1552' '1553' '1572' '1575' '1578' '1586'\n",
      " '1588' '1590' '1598' '1599' '1604' '1620' '1621' '1624' '1641' '1646'\n",
      " '1659' '1661' '1662' '1664' '1668' '167' '1671' '1673' '1675' '1677'\n",
      " '1678' '1680' '1681' '1685' '1688' '1694' '1699' '1701' '1705' '1708'\n",
      " '1714' '1716' '1719' '1723' '173' '1730' '1736' '175' '1750' '1756'\n",
      " '1759' '1760' '1768' '1781' '1793' '1807' '1811' '1816' '1817' '1820'\n",
      " '1823' '1829' '1832' '1834' '1836' '1841' '1845' '1848' '1850' '1855'\n",
      " '1866' '1869' '1872' '1885' '1888' '1901' '1917' '1924' '1935' '1946'\n",
      " '1948' '1951' '1960' '1968' '1974' '1975' '1991' '1993' '1995' '1996'\n",
      " '1998' '2000' '2002' '2004' '2018' '2054' '2056' '2067' '2070' '2073'\n",
      " '2078' '2080' '2082' '2084' '2108' '2123' '2148' '2151' '2156' '2177'\n",
      " '2188' '2195' '2209' '2216' '2223' '2225' '2236' '2265' '2266' '2269'\n",
      " '2278' '2297' '2308' '2337' '2364' '2377' '2386' '2410' '2418' '2421'\n",
      " '2455' '2467' '2469' '247' '2472' '2476' '2505' '2562' '2566' '2570'\n",
      " '2578' '259' '2606' '2628' '2658' '2670' '2690' '2705' '271' '2711'\n",
      " '2715' '2736' '279' '2819' '2858' '2866' '2874' '289' '2908' '2909'\n",
      " '2913' '294' '2959' '2971' '3008' '3015' '3025' '3057' '308' '3112'\n",
      " '3141' '3156' '3184' '3208' '3268' '3273' '328' '3292' '3301' '3329'\n",
      " '333' '345' '3505' '3518' '353' '3571' '362' '363' '364' '3699' '3739'\n",
      " '3743' '3811' '382' '3894' '3910' '394' '3965' '397' '3989' '399' '400'\n",
      " '402' '4057' '418' '419' '420' '421' '424' '425' '426' '4283' '431' '441'\n",
      " '442' '446' '447' '448' '4508' '456' '460' '461' '462' '463' '473' '4736'\n",
      " '474' '4741' '475' '481' '4860' '488' '489' '490' '494' '501' '502' '503'\n",
      " '505' '517' '518' '521' '524' '526' '527' '528' '530' '531' '5332' '551'\n",
      " '552' '556' '557' '5603' '562' '565' '5666' '5679' '5681' '574' '579'\n",
      " '583' '584' '585' '586' '5877' '5908' '595' '603' '604' '605' '607' '609'\n",
      " '612' '614' '617' '623' '626' '627' '629' '636' '637' '638' '639' '640'\n",
      " '641' '642' '644' '645' '649' '650' '658' '663' '666' '668' '676' '681'\n",
      " '682' '683' '686' '687' '690' '691' '692' '694' '695' '696' '697' '702'\n",
      " '7058' '706' '7063' '707' '714' '722' '723' '724' '729' '730' '731' '732'\n",
      " '738' '741' '742' '746' '748' '749' '750' '751' '753' '7536' '760' '761'\n",
      " '764' '765' '769' '770' '777' '779' '780' '781' '784' '789' '790' '792'\n",
      " '798' '799' '800' '810' '822' '827' '828' '830' '831' '832' '833' '834'\n",
      " '836' '841' '843' '859' '862' '864' '866' '867' '87' '870' '873' '874'\n",
      " '875' '876' '877' '878' '879' '880' '889' '890' '891' '893' '900' '911'\n",
      " '915' '916' '917' '919' '922' '924' '928' '930' '934' '944' '949' '955'\n",
      " '961' '965' '966' '967' '970' '971' '972' '975' '978' '980' '986' '988'\n",
      " '993' '994' '997']\n"
     ]
    }
   ],
   "source": [
    "print(np.unique(df['Levy']))"
   ]
  },
  {
   "cell_type": "code",
   "execution_count": 28,
   "id": "f8ecc7a5-3774-4e24-b47b-ec6d33f212ce",
   "metadata": {},
   "outputs": [],
   "source": [
    "## changing a colums\n",
    "data = pd.read_csv(\"datasets/car_price_prediction.csv\", na_values=['-'])"
   ]
  },
  {
   "cell_type": "code",
   "execution_count": 29,
   "id": "113c0b66-e5d2-48cc-83e5-68186f9d2c4f",
   "metadata": {},
   "outputs": [
    {
     "data": {
      "text/plain": [
       "ID                     0\n",
       "Price                  0\n",
       "Levy                5819\n",
       "Manufacturer           0\n",
       "Model                  0\n",
       "Prod. year             0\n",
       "Category               0\n",
       "Leather interior       0\n",
       "Fuel type              0\n",
       "Engine volume          0\n",
       "Mileage                0\n",
       "Cylinders              0\n",
       "Gear box type          0\n",
       "Drive wheels           0\n",
       "Doors                  0\n",
       "Wheel                  0\n",
       "Color                  0\n",
       "Airbags                0\n",
       "dtype: int64"
      ]
     },
     "execution_count": 29,
     "metadata": {},
     "output_type": "execute_result"
    }
   ],
   "source": [
    "data.isnull().sum()"
   ]
  },
  {
   "cell_type": "markdown",
   "id": "d0a49018-098a-4d59-9418-7f82283fc69f",
   "metadata": {},
   "source": [
    "## Data preprocessing"
   ]
  },
  {
   "cell_type": "code",
   "execution_count": 30,
   "id": "a8d3bc7a-cfdc-41e6-b059-0418545b1b79",
   "metadata": {},
   "outputs": [],
   "source": [
    "## changing a colums\n",
    "data = pd.read_csv(\"datasets/car_price_prediction.csv\", na_values=['-'])"
   ]
  },
  {
   "cell_type": "code",
   "execution_count": 31,
   "id": "a3a93fa2-bc38-4e38-aa2d-8caf9d93c905",
   "metadata": {},
   "outputs": [
    {
     "data": {
      "text/plain": [
       "ID                     0\n",
       "Price                  0\n",
       "Levy                5819\n",
       "Manufacturer           0\n",
       "Model                  0\n",
       "Prod. year             0\n",
       "Category               0\n",
       "Leather interior       0\n",
       "Fuel type              0\n",
       "Engine volume          0\n",
       "Mileage                0\n",
       "Cylinders              0\n",
       "Gear box type          0\n",
       "Drive wheels           0\n",
       "Doors                  0\n",
       "Wheel                  0\n",
       "Color                  0\n",
       "Airbags                0\n",
       "dtype: int64"
      ]
     },
     "execution_count": 31,
     "metadata": {},
     "output_type": "execute_result"
    }
   ],
   "source": [
    "data.isnull().sum()"
   ]
  },
  {
   "cell_type": "code",
   "execution_count": 32,
   "id": "d27f5bac-6c24-4c51-b9be-c11cd3c9f0fe",
   "metadata": {},
   "outputs": [
    {
     "name": "stdout",
     "output_type": "stream",
     "text": [
      "[   87.   115.   155.   167.   173.   175.   247.   259.   271.   279.\n",
      "   289.   294.   308.   328.   333.   345.   353.   362.   363.   364.\n",
      "   382.   394.   397.   399.   400.   402.   418.   419.   420.   421.\n",
      "   424.   425.   426.   431.   441.   442.   446.   447.   448.   456.\n",
      "   460.   461.   462.   463.   473.   474.   475.   481.   488.   489.\n",
      "   490.   494.   501.   502.   503.   505.   517.   518.   521.   524.\n",
      "   526.   527.   528.   530.   531.   551.   552.   556.   557.   562.\n",
      "   565.   574.   579.   583.   584.   585.   586.   595.   603.   604.\n",
      "   605.   607.   609.   612.   614.   617.   623.   626.   627.   629.\n",
      "   636.   637.   638.   639.   640.   641.   642.   644.   645.   649.\n",
      "   650.   658.   663.   666.   668.   676.   681.   682.   683.   686.\n",
      "   687.   690.   691.   692.   694.   695.   696.   697.   702.   706.\n",
      "   707.   714.   722.   723.   724.   729.   730.   731.   732.   738.\n",
      "   741.   742.   746.   748.   749.   750.   751.   753.   760.   761.\n",
      "   764.   765.   769.   770.   777.   779.   780.   781.   784.   789.\n",
      "   790.   792.   798.   799.   800.   810.   822.   827.   828.   830.\n",
      "   831.   832.   833.   834.   836.   841.   843.   859.   862.   864.\n",
      "   866.   867.   870.   873.   874.   875.   876.   877.   878.   879.\n",
      "   880.   889.   890.   891.   893.   900.   911.   915.   916.   917.\n",
      "   919.   922.   924.   928.   930.   934.   944.   949.   955.   961.\n",
      "   965.   966.   967.   970.   971.   972.   975.   978.   980.   986.\n",
      "   988.   993.   994.   997.  1011.  1016.  1017.  1018.  1024.  1028.\n",
      "  1030.  1031.  1032.  1036.  1039.  1045.  1047.  1051.  1053.  1054.\n",
      "  1055.  1058.  1062.  1064.  1076.  1077.  1079.  1080.  1083.  1086.\n",
      "  1090.  1091.  1094.  1095.  1099.  1103.  1104.  1107.  1108.  1109.\n",
      "  1110.  1111.  1113.  1118.  1132.  1138.  1141.  1148.  1156.  1163.\n",
      "  1171.  1172.  1174.  1176.  1178.  1185.  1187.  1190.  1194.  1195.\n",
      "  1197.  1198.  1202.  1203.  1205.  1211.  1228.  1234.  1236.  1246.\n",
      "  1249.  1252.  1266.  1267.  1268.  1272.  1273.  1275.  1277.  1279.\n",
      "  1282.  1285.  1286.  1288.  1292.  1296.  1297.  1301.  1304.  1307.\n",
      "  1308.  1317.  1323.  1324.  1325.  1327.  1341.  1342.  1345.  1346.\n",
      "  1347.  1356.  1357.  1360.  1361.  1363.  1365.  1366.  1368.  1369.\n",
      "  1375.  1384.  1387.  1391.  1399.  1405.  1408.  1411.  1413.  1426.\n",
      "  1436.  1437.  1438.  1440.  1441.  1442.  1451.  1452.  1466.  1468.\n",
      "  1470.  1473.  1474.  1481.  1482.  1486.  1488.  1493.  1502.  1503.\n",
      "  1505.  1511.  1514.  1515.  1516.  1518.  1522.  1525.  1528.  1529.\n",
      "  1531.  1533.  1537.  1539.  1552.  1553.  1572.  1575.  1578.  1586.\n",
      "  1588.  1590.  1598.  1599.  1604.  1620.  1621.  1624.  1641.  1646.\n",
      "  1659.  1661.  1662.  1664.  1668.  1671.  1673.  1675.  1677.  1678.\n",
      "  1680.  1681.  1685.  1688.  1694.  1699.  1701.  1705.  1708.  1714.\n",
      "  1716.  1719.  1723.  1730.  1736.  1750.  1756.  1759.  1760.  1768.\n",
      "  1781.  1793.  1807.  1811.  1816.  1817.  1820.  1823.  1829.  1832.\n",
      "  1834.  1836.  1841.  1845.  1848.  1850.  1855.  1866.  1869.  1872.\n",
      "  1885.  1888.  1901.  1917.  1924.  1935.  1946.  1948.  1951.  1960.\n",
      "  1968.  1974.  1975.  1991.  1993.  1995.  1996.  1998.  2000.  2002.\n",
      "  2004.  2018.  2054.  2056.  2067.  2070.  2073.  2078.  2080.  2082.\n",
      "  2084.  2108.  2123.  2148.  2151.  2156.  2177.  2188.  2195.  2209.\n",
      "  2216.  2223.  2225.  2236.  2265.  2266.  2269.  2278.  2297.  2308.\n",
      "  2337.  2364.  2377.  2386.  2410.  2418.  2421.  2455.  2467.  2469.\n",
      "  2472.  2476.  2505.  2562.  2566.  2570.  2578.  2606.  2628.  2658.\n",
      "  2670.  2690.  2705.  2711.  2715.  2736.  2819.  2858.  2866.  2874.\n",
      "  2908.  2909.  2913.  2959.  2971.  3008.  3015.  3025.  3057.  3112.\n",
      "  3141.  3156.  3184.  3208.  3268.  3273.  3292.  3301.  3329.  3505.\n",
      "  3518.  3571.  3699.  3739.  3743.  3811.  3894.  3910.  3965.  3989.\n",
      "  4057.  4283.  4508.  4736.  4741.  4860.  5332.  5603.  5666.  5679.\n",
      "  5681.  5877.  5908.  7058.  7063.  7536. 11706. 11714.    nan]\n"
     ]
    }
   ],
   "source": [
    "print(np.unique(data['Levy']))"
   ]
  },
  {
   "cell_type": "code",
   "execution_count": 33,
   "id": "f156fa81-eaaa-40d5-8fea-c4dfa088d44f",
   "metadata": {},
   "outputs": [
    {
     "name": "stdout",
     "output_type": "stream",
     "text": [
      "['09-Mar' '100' '100 NX' ... 'macan S' 'tC' 'xD']\n"
     ]
    }
   ],
   "source": [
    "print(np.unique(df['Model']))"
   ]
  },
  {
   "cell_type": "code",
   "execution_count": 34,
   "id": "dd8e60f9-b792-4db3-86a9-491a2bb341c8",
   "metadata": {},
   "outputs": [
    {
     "name": "stdout",
     "output_type": "stream",
     "text": [
      "['0 km' '1000 km' '10000 km' ... '99999 km' '999999 km' '999999999 km']\n"
     ]
    }
   ],
   "source": [
    "print(np.unique(df['Mileage']))"
   ]
  },
  {
   "cell_type": "code",
   "execution_count": null,
   "id": "6f20476b-aedc-45fa-a99d-e2fea994be67",
   "metadata": {},
   "outputs": [],
   "source": []
  }
 ],
 "metadata": {
  "kernelspec": {
   "display_name": "Python 3 (ipykernel)",
   "language": "python",
   "name": "python3"
  },
  "language_info": {
   "codemirror_mode": {
    "name": "ipython",
    "version": 3
   },
   "file_extension": ".py",
   "mimetype": "text/x-python",
   "name": "python",
   "nbconvert_exporter": "python",
   "pygments_lexer": "ipython3",
   "version": "3.11.7"
  }
 },
 "nbformat": 4,
 "nbformat_minor": 5
}
